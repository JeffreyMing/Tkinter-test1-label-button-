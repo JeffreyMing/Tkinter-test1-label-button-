{
 "cells": [
  {
   "cell_type": "code",
   "execution_count": 50,
   "metadata": {},
   "outputs": [],
   "source": [
    "import tkinter as tk\n",
    "\n",
    "#按鈕的觸發函式\n",
    "def clickme():\n",
    "    global count\n",
    "    count += 1\n",
    "    labeltext.set(\"你按我\" + str(count) + \"次了!\")\n",
    "    if(btntext.get() == \"按我!\"):\n",
    "        btntext.set(\"回復原來文字!\")\n",
    "    else:\n",
    "        btntext.set(\"按我!\")"
   ]
  },
  {
   "cell_type": "markdown",
   "metadata": {},
   "source": [
    "### 建立主視窗"
   ]
  },
  {
   "cell_type": "code",
   "execution_count": 51,
   "metadata": {},
   "outputs": [
    {
     "data": {
      "text/plain": [
       "''"
      ]
     },
     "execution_count": 51,
     "metadata": {},
     "output_type": "execute_result"
    }
   ],
   "source": [
    "win = tk.Tk()  #建立主視窗\n",
    "win.geometry(\"320x80\")\n",
    "win.title(\"主視窗\")"
   ]
  },
  {
   "cell_type": "markdown",
   "metadata": {},
   "source": [
    "### 標籤元件"
   ]
  },
  {
   "cell_type": "code",
   "execution_count": 52,
   "metadata": {},
   "outputs": [],
   "source": [
    "#標籤元件\n",
    "labeltext = tk.StringVar() # TK字串\n",
    "labeltext.set(\"歡迎光臨tkinter!\")\n",
    "label1 = tk.Label(win, fg=\"red\", font=(\"新細明體\", 20),textvariable=labeltext)\n",
    "label1.pack() #以pack方法將元件加入主視窗，還有grid及place方法"
   ]
  },
  {
   "cell_type": "markdown",
   "metadata": {},
   "source": [
    "### 按鈕元件"
   ]
  },
  {
   "cell_type": "code",
   "execution_count": 53,
   "metadata": {},
   "outputs": [],
   "source": [
    "#按鈕元件\n",
    "count=0\n",
    "btntext = tk.StringVar() # TK字串\n",
    "btntext.set(\"按我!\")\n",
    "button1 = tk.Button(win, textvariable=btntext, command = clickme)\n",
    "button1.pack()\n",
    "\n",
    "#最後使用mainloop進行互動模式，等待觸發事件\n",
    "win.mainloop()"
   ]
  },
  {
   "cell_type": "markdown",
   "metadata": {},
   "source": [
    "## tkinter 打包成exe可執行文件\n",
    "### 1.安裝pyinstaller\n",
    "pip install pyinstaller\n",
    "### 2.打包\n",
    "打開cmd，切換到需要打包的文件(demo.py)目錄執行 pyinstaller -F -w demo.py\n",
    "\n",
    "生成的exe文件就在子目錄dist中。-F表示指定打包後只生成一個exe格式的文件，-w表示窗口，無控制台。\n",
    "\n",
    "### 3.修改exe圖標\n",
    "-i icon.ico 或者 --icon=icon.ico\n",
    "\n",
    "圖標文件放在要打包的文件同目錄中。"
   ]
  },
  {
   "cell_type": "code",
   "execution_count": null,
   "metadata": {},
   "outputs": [],
   "source": []
  }
 ],
 "metadata": {
  "kernelspec": {
   "display_name": "Python 3",
   "language": "python",
   "name": "python3"
  },
  "language_info": {
   "codemirror_mode": {
    "name": "ipython",
    "version": 3
   },
   "file_extension": ".py",
   "mimetype": "text/x-python",
   "name": "python",
   "nbconvert_exporter": "python",
   "pygments_lexer": "ipython3",
   "version": "3.6.4"
  }
 },
 "nbformat": 4,
 "nbformat_minor": 2
}
